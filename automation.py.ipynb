{
 "cells": [
  {
   "cell_type": "code",
   "execution_count": 22,
   "id": "91574921",
   "metadata": {},
   "outputs": [],
   "source": [
    "import cv2"
   ]
  },
  {
   "cell_type": "code",
   "execution_count": 23,
   "id": "92f6871d",
   "metadata": {},
   "outputs": [],
   "source": [
    "import boto3"
   ]
  },
  {
   "cell_type": "code",
   "execution_count": 24,
   "id": "8bc78b36",
   "metadata": {},
   "outputs": [],
   "source": [
    "import time "
   ]
  },
  {
   "cell_type": "code",
   "execution_count": 25,
   "id": "1834a7e8",
   "metadata": {},
   "outputs": [],
   "source": [
    "ec2 = boto3.resource('ec2')"
   ]
  },
  {
   "cell_type": "code",
   "execution_count": 26,
   "id": "1c23b7eb",
   "metadata": {},
   "outputs": [],
   "source": [
    "elb = boto3.client('elbv2')"
   ]
  },
  {
   "cell_type": "code",
   "execution_count": 27,
   "id": "8b89637c",
   "metadata": {},
   "outputs": [],
   "source": [
    "allOS = []"
   ]
  },
  {
   "cell_type": "code",
   "execution_count": 28,
   "id": "5738e439",
   "metadata": {},
   "outputs": [],
   "source": [
    "def LaunchOS():\n",
    "    instances = ec2.create_instances(\n",
    "        ImageId=\"ami-0da59f1af71ea4ad2\",\n",
    "        MinCount=1,\n",
    "        MaxCount=1,\n",
    "        InstanceType=\"t2.micro\",\n",
    "        SecurityGroupIds=[\n",
    "        'sg-098251aa964ad2714',\n",
    "    ],\n",
    "    )\n",
    "\n",
    "    OSid = instances[0].id\n",
    "    allOS.append(OSid)\n",
    "    \n",
    "    time.sleep(30)\n",
    "    \n",
    "    # print(allOS)\n",
    "    print(\"Total OS : \" , len(allOS))"
   ]
  },
  {
   "cell_type": "code",
   "execution_count": 17,
   "id": "40483593",
   "metadata": {},
   "outputs": [
    {
     "name": "stdout",
     "output_type": "stream",
     "text": [
      "Total OS :  1\n"
     ]
    }
   ],
   "source": [
    "LaunchOS()"
   ]
  },
  {
   "cell_type": "code",
   "execution_count": 29,
   "id": "15040113",
   "metadata": {},
   "outputs": [],
   "source": [
    "def TerminateOS():\n",
    "    if allOS:\n",
    "        myos = allOS.pop()\n",
    "        response = ec2.instances.filter(InstanceIds=[myos]).terminate()\n",
    "        \n",
    "\n",
    "        \n",
    "        print(\"Remaining OS : \" , len(allOS))\n",
    "        return response\n",
    "    else:\n",
    "        print(\"no more OS is Running\")"
   ]
  },
  {
   "cell_type": "code",
   "execution_count": 20,
   "id": "6b8485f0",
   "metadata": {},
   "outputs": [
    {
     "name": "stdout",
     "output_type": "stream",
     "text": [
      "no more OS is Running\n"
     ]
    }
   ],
   "source": [
    "TerminateOS()"
   ]
  },
  {
   "cell_type": "code",
   "execution_count": 30,
   "id": "47c0f8f0",
   "metadata": {},
   "outputs": [],
   "source": [
    "from cvzone.HandTrackingModule import HandDetector"
   ]
  },
  {
   "cell_type": "code",
   "execution_count": 31,
   "id": "33ab1e7e",
   "metadata": {},
   "outputs": [],
   "source": [
    "detector = HandDetector(maxHands=1,\n",
    "                        detectionCon=0.8)"
   ]
  },
  {
   "cell_type": "code",
   "execution_count": 32,
   "id": "e250c1fa",
   "metadata": {},
   "outputs": [],
   "source": [
    "cap  = cv2.VideoCapture(0)"
   ]
  },
  {
   "cell_type": "code",
   "execution_count": 33,
   "id": "356bc1ef",
   "metadata": {
    "scrolled": false
   },
   "outputs": [
    {
     "name": "stdout",
     "output_type": "stream",
     "text": [
      "[1, 1, 1, 1, 1]\n",
      "[1, 1, 1, 1, 1]\n",
      "[1, 1, 1, 1, 1]\n",
      "[1, 1, 1, 1, 1]\n",
      "[1, 1, 1, 1, 1]\n",
      "[1, 1, 1, 1, 1]\n",
      "[1, 1, 1, 1, 1]\n",
      "[1, 1, 0, 0, 0]\n",
      "[0, 1, 0, 0, 0]\n",
      "sec finger ..\n",
      "no more OS is Running\n",
      "[0, 1, 0, 0, 0]\n",
      "sec finger ..\n",
      "no more OS is Running\n",
      "[0, 1, 0, 0, 0]\n",
      "sec finger ..\n",
      "no more OS is Running\n",
      "[0, 1, 0, 0, 0]\n",
      "sec finger ..\n",
      "no more OS is Running\n",
      "[0, 1, 0, 0, 0]\n",
      "sec finger ..\n",
      "no more OS is Running\n",
      "[0, 1, 0, 0, 0]\n",
      "sec finger ..\n",
      "no more OS is Running\n",
      "[0, 1, 0, 0, 0]\n",
      "sec finger ..\n",
      "no more OS is Running\n",
      "[0, 1, 1, 0, 0]\n",
      "2 and 3 finger ..\n",
      "Total OS :  1\n"
     ]
    }
   ],
   "source": [
    "while True:\n",
    "    ret, img = cap.read()\n",
    "    cv2.imshow(\"Img\" , img)\n",
    "    if cv2.waitKey(100) == 13:\n",
    "        break\n",
    "\n",
    "    hand = detector.findHands(img , draw=False)\n",
    "    if hand:\n",
    "        lmlist = hand[0]\n",
    "        if lmlist:\n",
    "            fingerup = detector.fingersUp(lmlist)\n",
    "            print(fingerup)\n",
    "            if fingerup == [0, 1, 0, 0, 0]:\n",
    "                print(\"sec finger ..\")\n",
    "                TerminateOS()\n",
    "            \n",
    "            elif fingerup == [0, 1, 1, 0, 0]:\n",
    "                print(\"2 and 3 finger ..\")\n",
    "                LaunchOS()\n",
    "\n",
    "            \n",
    "cv2.destroyAllWindows()"
   ]
  },
  {
   "cell_type": "code",
   "execution_count": 34,
   "id": "172b909c",
   "metadata": {},
   "outputs": [],
   "source": [
    "cap.release()   "
   ]
  },
  {
   "cell_type": "code",
   "execution_count": null,
   "id": "35b60d18",
   "metadata": {},
   "outputs": [],
   "source": []
  }
 ],
 "metadata": {
  "kernelspec": {
   "display_name": "Python 3 (ipykernel)",
   "language": "python",
   "name": "python3"
  },
  "language_info": {
   "codemirror_mode": {
    "name": "ipython",
    "version": 3
   },
   "file_extension": ".py",
   "mimetype": "text/x-python",
   "name": "python",
   "nbconvert_exporter": "python",
   "pygments_lexer": "ipython3",
   "version": "3.10.9"
  }
 },
 "nbformat": 4,
 "nbformat_minor": 5
}
